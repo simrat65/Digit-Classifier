{
 "cells": [
  {
   "cell_type": "code",
   "execution_count": 99,
   "metadata": {
    "collapsed": true
   },
   "outputs": [],
   "source": [
    "import tensorflow as tf\n",
    "import pandas as pd\n",
    "import numpy as np\n",
    "import sklearn as sk\n",
    "import timeit\n",
    "import matplotlib.pyplot as plt\n",
    "from sklearn.svm import SVC\n",
    "import math"
   ]
  },
  {
   "cell_type": "code",
   "execution_count": 2,
   "metadata": {
    "collapsed": false
   },
   "outputs": [],
   "source": [
    "def reshpe(X):\n",
    "    numpy = X.as_matrix()\n",
    "    shape = X.shape[0]\n",
    "    numpy = numpy.reshape(shape,28,28,1)\n",
    "    return numpy\n",
    "def get_data(num_training=41000, num_validation = 1000):\n",
    "    X_train = pd.read_csv('../Digit/Digits/train.csv')\n",
    "    Y_train =X_train['label']\n",
    "    Y_train =Y_train.as_matrix()\n",
    "    del X_train['label']\n",
    "    X_test  = pd.read_csv(r'../Digit/Digits/test.csv')\n",
    "    X_test = reshpe(X_test)\n",
    "    mask = range(num_training, num_training+num_validation)\n",
    "    X_val = X_train.iloc[mask]\n",
    "    X_val = reshpe(X_val)\n",
    "    Y_val = Y_train[mask]\n",
    "    mask= range(num_training)\n",
    "    X_train = X_train.iloc[mask]\n",
    "    X_train = reshpe(X_train)\n",
    "    Y_train = Y_train[mask]\n",
    "    return X_train,Y_train,X_val,Y_val,X_test\n",
    "X_train,Y_train,X_val,Y_val,X_test=get_data()\n"
   ]
  },
  {
   "cell_type": "code",
   "execution_count": 3,
   "metadata": {
    "collapsed": false
   },
   "outputs": [
    {
     "data": {
      "text/plain": [
       "(41000, 28, 28, 1)"
      ]
     },
     "execution_count": 3,
     "metadata": {},
     "output_type": "execute_result"
    }
   ],
   "source": [
    "X_train.shape"
   ]
  },
  {
   "cell_type": "code",
   "execution_count": 4,
   "metadata": {
    "collapsed": true
   },
   "outputs": [],
   "source": [
    "def run_model(session, predict, loss_val, Xd, yd,\n",
    "              epochs=1, batch_size=64, print_every=100,\n",
    "              training=None, plot_losses=False):\n",
    "    # have tensorflow compute accuracy\n",
    "    correct_prediction = tf.equal(tf.argmax(predict,1), y)\n",
    "    accuracy = tf.reduce_mean(tf.cast(correct_prediction, tf.float32))\n",
    "    \n",
    "    # shuffle indicies\n",
    "    train_indicies = np.arange(Xd.shape[0])\n",
    "    np.random.shuffle(train_indicies)\n",
    "\n",
    "    training_now = training is not None\n",
    "    \n",
    "    # setting up variables we want to compute (and optimizing)\n",
    "    # if we have a training function, add that to things we compute\n",
    "    variables = [mean_loss,correct_prediction,accuracy]\n",
    "    if training_now:\n",
    "        variables[-1] = training\n",
    "    \n",
    "    # counter \n",
    "    iter_cnt = 0\n",
    "    for e in range(epochs):\n",
    "        # keep track of losses and accuracy\n",
    "        correct = 0\n",
    "        losses = []\n",
    "        # make sure we iterate over the dataset once\n",
    "        for i in range(int(math.ceil(Xd.shape[0]/batch_size))):\n",
    "            # generate indicies for the batch\n",
    "            start_idx = (i*batch_size)%Xd.shape[0]\n",
    "            idx = train_indicies[start_idx:start_idx+batch_size]\n",
    "            \n",
    "            # create a feed dictionary for this batch\n",
    "            feed_dict = {X: Xd[idx,:],\n",
    "                         y: yd[idx],\n",
    "                         is_training: training_now }\n",
    "            # get batch size\n",
    "            actual_batch_size = yd[idx].shape[0]\n",
    "            \n",
    "            # have tensorflow compute loss and correct predictions\n",
    "            # and (if given) perform a training step\n",
    "            loss, corr, _ = session.run(variables,feed_dict=feed_dict)\n",
    "            \n",
    "            # aggregate performance stats\n",
    "            losses.append(loss*actual_batch_size)\n",
    "            correct += np.sum(corr)\n",
    "            \n",
    "            # print every now and then\n",
    "            if training_now and (iter_cnt % print_every) == 0:\n",
    "                print(\"Iteration {0}: with minibatch training loss = {1:.3g} and accuracy of {2:.2g}\"\\\n",
    "                      .format(iter_cnt,loss,np.sum(corr)/actual_batch_size))\n",
    "            iter_cnt += 1\n",
    "        total_correct = correct/Xd.shape[0]\n",
    "        total_loss = np.sum(losses)/Xd.shape[0]\n",
    "        print(\"Epoch {2}, Overall loss = {0:.3g} and accuracy of {1:.3g}\"\\\n",
    "              .format(total_loss,total_correct,e+1))\n",
    "        if plot_losses:\n",
    "            plt.plot(losses)\n",
    "            plt.grid(True)\n",
    "            plt.title('Epoch {} Loss'.format(e+1))\n",
    "            plt.xlabel('minibatch number')\n",
    "            plt.ylabel('minibatch loss')\n",
    "            plt.show()\n",
    "    return total_loss,total_correct"
   ]
  },
  {
   "cell_type": "code",
   "execution_count": 259,
   "metadata": {
    "collapsed": false
   },
   "outputs": [],
   "source": [
    "tf.reset_default_graph()\n",
    "\n",
    "# define our input (e.g. the data that changes every batch)\n",
    "# The first dim is None, and gets sets automatically based on batch size fed in\n",
    "X = tf.placeholder(tf.float32, [None, 28, 28, 1])\n",
    "y = tf.placeholder(tf.int64, [None])\n",
    "is_training = tf.placeholder(tf.bool)\n",
    "\n",
    "# define model\n",
    "def complex_model(X,y,is_training):\n",
    "    # setup variables\n",
    "    Wconv1 = tf.get_variable(\"Wconv1\", shape=[7, 7, 1,28])\n",
    "    bconv1 = tf.get_variable(\"bconv1\", shape=[28])\n",
    "    Wconv2 = tf.get_variable(\"Wconv2\", shape=[7, 7, 28,56])\n",
    "    bconv2 = tf.get_variable(\"bconv2\", shape=[56])\n",
    "    Wconv3 = tf.get_variable(\"Wconv3\", shape=[7, 7, 56,56*2])\n",
    "    bconv3 = tf.get_variable(\"bconv3\", shape=[56*2])    \n",
    "    gamma = tf.get_variable(\"gamma\", shape=[4096])\n",
    "    beta = tf.get_variable(\"beta\", shape=[4096])\n",
    "    gamma2 = tf.get_variable(\"gamma2\", shape=[4096])\n",
    "    beta2 = tf.get_variable(\"beta2\", shape=[4096])\n",
    "    W_affine1 = tf.get_variable(\"W_affine1\", shape=[4*4*56*2, 4096])\n",
    "    b_affine1 = tf.get_variable(\"b_affine1\", shape=[4096])\n",
    "    W_affine3 = tf.get_variable(\"W_affine3\", shape=[4096, 4096])\n",
    "    b_affine3 = tf.get_variable(\"b_affine3\", shape=[4096])\n",
    "    W_affine2 = tf.get_variable(\"W_affine2\", shape=[4096, 10])\n",
    "    b_affine2 = tf.get_variable(\"b_affine2\", shape=[10])\n",
    "    \n",
    "    a1 = tf.nn.conv2d(X, Wconv1, strides=[1,1,1,1], padding='SAME') + bconv1\n",
    "    h1 = tf.nn.relu(a1)\n",
    "    max_pool_out1 = tf.nn.max_pool(h1, ksize=[1, 2, 2, 1], strides=[1,2,2,1], padding='SAME')\n",
    "    a2 = tf.nn.conv2d(max_pool_out1, Wconv2, strides=[1,1,1,1], padding='SAME') + bconv2\n",
    "    h2 = tf.nn.relu(a2)\n",
    "    max_pool_out2 = tf.nn.max_pool(h2, ksize=[1, 2, 2, 1], strides=[1,2,2,1], padding='SAME')\n",
    "    a3 = tf.nn.conv2d(max_pool_out2, Wconv3, strides=[1,1,1,1], padding='SAME') + bconv3\n",
    "    h3 = tf.nn.relu(a3)\n",
    "    max_pool_out3 = tf.nn.max_pool(h3, ksize=[1, 2, 2, 1], strides=[1,2,2,1], padding='SAME')\n",
    "    max_pool_out3 = tf.reshape(max_pool_out3,[-1,4*4*56*2])\n",
    "    affine_out1 = tf.matmul(max_pool_out3,W_affine1) + b_affine1\n",
    "    #mean,var = tf.nn.moments(affine_out1,axes=[0], keep_dims=True)\n",
    "    #batch_out = tf.nn.batch_normalization(affine_out1,mean,var,beta,gamma,variance_epsilon=1e-7)\n",
    "    h4 = tf.nn.relu(affine_out1)\n",
    "    affine_out3 = tf.matmul(h4,W_affine3) + b_affine3\n",
    "    mean2,var2 = tf.nn.moments(affine_out3,axes=[0], keep_dims=True)\n",
    "    batch_out2 = tf.nn.batch_normalization(affine_out3,mean2,var2,beta2,gamma2,variance_epsilon=1e-7)\n",
    "    h2 = tf.nn.relu(batch_out2)\n",
    "    affine_out2 = tf.matmul(h2,W_affine2) + b_affine2\n",
    "    return affine_out2\n",
    "\n",
    "y_out = complex_model(X,y,is_training)"
   ]
  },
  {
   "cell_type": "code",
   "execution_count": 260,
   "metadata": {
    "collapsed": false
   },
   "outputs": [],
   "source": [
    "total_loss = tf.losses.sigmoid_cross_entropy(tf.one_hot(y,10),logits=y_out)\n",
    "mean_loss = tf.reduce_mean(total_loss)\n",
    "optimizer = tf.train.AdamOptimizer(0.001)\n",
    "train_step = optimizer.minimize(mean_loss)"
   ]
  },
  {
   "cell_type": "code",
   "execution_count": 261,
   "metadata": {
    "collapsed": false
   },
   "outputs": [],
   "source": [
    "extra_update_ops = tf.get_collection(tf.GraphKeys.UPDATE_OPS)\n",
    "with tf.control_dependencies(extra_update_ops):\n",
    "    train_step = optimizer.minimize(mean_loss)"
   ]
  },
  {
   "cell_type": "code",
   "execution_count": null,
   "metadata": {
    "collapsed": false,
    "scrolled": true
   },
   "outputs": [
    {
     "name": "stdout",
     "output_type": "stream",
     "text": [
      "Training\n",
      "Iteration 0: with minibatch training loss = 0.704 and accuracy of 0.078\n"
     ]
    }
   ],
   "source": [
    "sess = tf.Session()\n",
    "\n",
    "sess.run(tf.global_variables_initializer())\n",
    "print('Training')\n",
    "run_model(sess,y_out,mean_loss,X_train,Y_train,2,64,100,train_step)"
   ]
  },
  {
   "cell_type": "code",
   "execution_count": null,
   "metadata": {
    "collapsed": false
   },
   "outputs": [],
   "source": [
    "print('Validation')\n",
    "run_model(sess,y_out,mean_loss,X_val,Y_val,1,256)"
   ]
  },
  {
   "cell_type": "code",
   "execution_count": 244,
   "metadata": {
    "collapsed": true
   },
   "outputs": [],
   "source": [
    "predict = sess.run(y_out,feed_dict={X:X_test})"
   ]
  },
  {
   "cell_type": "code",
   "execution_count": 228,
   "metadata": {
    "collapsed": false
   },
   "outputs": [
    {
     "name": "stdout",
     "output_type": "stream",
     "text": [
      "[ 5.42539358 -6.36009979 -6.64676952 -7.58563423 -6.54423428 -6.94392538\n",
      " -7.33768511 -7.84318018 -6.32241201 -8.01520348]\n"
     ]
    }
   ],
   "source": [
    "print(predict[1])\n"
   ]
  },
  {
   "cell_type": "code",
   "execution_count": 231,
   "metadata": {
    "collapsed": false
   },
   "outputs": [],
   "source": [
    "final_ans = np.argmax(predict, axis=1)\n",
    "final_ans=final_ans.astype(int)"
   ]
  },
  {
   "cell_type": "code",
   "execution_count": 232,
   "metadata": {
    "collapsed": false
   },
   "outputs": [],
   "source": [
    "np.savetxt(\"predictions.csv\", final_ans, delimiter=\",\")"
   ]
  }
 ],
 "metadata": {
  "kernelspec": {
   "display_name": "Python 3",
   "language": "python",
   "name": "python3"
  },
  "language_info": {
   "codemirror_mode": {
    "name": "ipython",
    "version": 3
   },
   "file_extension": ".py",
   "mimetype": "text/x-python",
   "name": "python",
   "nbconvert_exporter": "python",
   "pygments_lexer": "ipython3",
   "version": "3.5.1"
  }
 },
 "nbformat": 4,
 "nbformat_minor": 0
}
